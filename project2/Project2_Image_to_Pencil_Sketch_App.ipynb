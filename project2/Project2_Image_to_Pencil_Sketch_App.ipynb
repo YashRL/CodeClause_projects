{
  "nbformat": 4,
  "nbformat_minor": 0,
  "metadata": {
    "colab": {
      "provenance": []
    },
    "kernelspec": {
      "name": "python3",
      "display_name": "Python 3"
    },
    "language_info": {
      "name": "python"
    }
  },
  "cells": [
    {
      "cell_type": "markdown",
      "source": [
        "Important Dependencies"
      ],
      "metadata": {
        "id": "nyMrgVJ8Mkh2"
      }
    },
    {
      "cell_type": "code",
      "execution_count": 4,
      "metadata": {
        "id": "GCJIckjqL53Q"
      },
      "outputs": [],
      "source": [
        "import cv2"
      ]
    },
    {
      "cell_type": "code",
      "source": [
        "image = cv2.imread('/content/tomAndJerry.png')"
      ],
      "metadata": {
        "id": "EZjTKX5QMt2G"
      },
      "execution_count": 6,
      "outputs": []
    },
    {
      "cell_type": "code",
      "source": [
        "gray_image = cv2.cvtColor(image,cv2.COLOR_BGR2GRAY)\n",
        "inverted = 255-gray_image\n",
        "blurred = cv2.GaussianBlur(inverted, (21,21),0)\n",
        "invertedblur = 255 - blurred\n",
        "pencilsketch = cv2.divide(gray_image, invertedblur, scale = 256.0)"
      ],
      "metadata": {
        "id": "TgMu312QRWS4"
      },
      "execution_count": 8,
      "outputs": []
    },
    {
      "cell_type": "code",
      "source": [
        "cv2.imwrite('/content/result.png', pencilsketch)"
      ],
      "metadata": {
        "colab": {
          "base_uri": "https://localhost:8080/"
        },
        "id": "-GqFrmLDSVSQ",
        "outputId": "260333ad-c3df-4e25-b442-a253b5934347"
      },
      "execution_count": 9,
      "outputs": [
        {
          "output_type": "execute_result",
          "data": {
            "text/plain": [
              "True"
            ]
          },
          "metadata": {},
          "execution_count": 9
        }
      ]
    }
  ]
}